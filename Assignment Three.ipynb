{
 "cells": [
  {
   "cell_type": "markdown",
   "metadata": {},
   "source": [
    "## Deep Learning Course (980)\n",
    "## Assignment Three \n",
    "\n",
    "__Assignment Goals:__\n",
    "\n",
    "- Implementing RNN based language models.\n",
    "- Implementing and applying a Recurrent Neural Network on text classification problem using TensorFlow.\n",
    "- Implementing __many to one__ and __many to many__ RNN sequence processing.\n",
    "\n",
    "In this assignment, you will implement RNN-based language models and compare extracted word representation from different models. You will also compare two different training methods for sequential data: Truncated Backpropagation Through Time __(TBTT)__ and Backpropagation Through Time __(BTT)__. \n",
    "Also, you will be asked to apply Vanilla RNN to capture word representations and solve a text classification problem. \n",
    "\n",
    "\n",
    "__DataSets__: You will use two datasets, an English Literature for language model task (part 1 to 4) and 20Newsgroups for text classification (part 5). \n",
    "\n",
    "\n",
    "1. (30 points) Implement the RNN based language model described by Mikolov et al.[1], also called __Elman network__ and train a language model on the English Literature dataset. This network contains input, hidden and output layer and is trained by standard backpropagation (TBTT with τ = 1) using the cross-entropy loss. \n",
    "   - The input represents the current word while using 1-of-N coding (thus its size is equal to the size of the vocabulary) and vector s(t − 1) that represents output values in the hidden layer from the previous time step. \n",
    "   - The hidden layer is a fully connected sigmoid layer with size 500. \n",
    "   - Softmax Output Layer to capture a valid probability distribution.\n",
    "   - The model is trained with truncated backpropagation through time (TBTT) with τ = 1: the weights of the network are updated based on the error vector computed only for the current time step.\n",
    "   \n",
    "   Download the English Literature dataset and train the language model as described, report the model cross-entropy loss on the train set. Use nltk.word_tokenize to tokenize the documents. \n",
    "For initialization, s(0) can be set to a vector of small values. Note that we are not interested in the *dynamic model* mentioned in the original paper. \n",
    "To make the implementation simpler you can use Keras to define neural net layers, including Keras.Embedding. (Keras.Embedding will create an additional mapping layer compared to the Elman architecture.) \n",
    "\n",
    "2. (20 points) TBTT has less computational cost and memory needs in comparison with *backpropagation through time algorithm (BTT)*. These benefits come at the cost of losing long term dependencies [2]. Now let's try to investigate computational costs and performance of learning our language model with BTT. For training the Elman-type RNN with BTT, one option is to perform mini-batch gradient descent with exactly one sentence per mini-batch. (The input  size will be [1, Sentence Length]). \n",
    "\n",
    "    1. Split the document into sentences (you can use nltk.tokenize.sent_tokenize).\n",
    "    2. For each sentence, perform one pass that computes the mean/sum loss for this sentence; then perform a gradient update for the whole sentence. (So the mini-batch size varies for the sentences with different lengths). You can truncate long sentences to fit the data in memory. \n",
    "    3. Report the model cross-entropy loss.\n",
    "\n",
    "3. (15 points) It does not seem that simple recurrent neural networks can capture truly exploit context information with long dependencies, because of the problem that gradients vanish and exploding. To solve this problem, gating mechanisms for recurrent neural networks were introduced. Try to learn your last model (Elman + BTT) with the SimpleRnn unit replaced with a Gated Recurrent Unit (GRU). Report the model cross-entropy loss. Compare your results in terms of cross-entropy loss with two other approach(part 1 and 2). Use each model to generate 10 synthetic sentences of 15 words each. Discuss the quality of the sentences generated - do they look like proper English? Do they match the training set?\n",
    "    Text generation from a given language model can be done using the following iterative process:\n",
    "   1. Set sequence = \\[first_word\\], chosen randomly.\n",
    "   2. Select a new word based on the sequence so far, add this word to the sequence, and repeat. At each iteration, select the word with maximum probability given the sequence so far. The trained language model outputs this probability. \n",
    "\n",
    "4. (15 points) The text describes how to extract a word representation from a trained RNN (Chapter 4). How we can evaluate the extracted word representation for your trained RNN? Compare the words representation extracted from each of the approaches using one of the existing methods.\n",
    "\n",
    "5. (20 points) We are aiming to learn an RNN model that predicts document categories given its content (text classification). For this task, we will use the 20Newsgroupst dataset. The 20Newsgroupst contains messages from twenty newsgroups.  We selected four major categories (comp, politics, rec, and religion) comprising around 13k documents altogether. Your model should learn word representations to support the classification task. For solving this problem modify the __Elman network__ architecture such that the last layer is a softmax layer with just 4 output neurons (one for each category). \n",
    "\n",
    "    1. Download the 20Newsgroups dataset, and use the implemented code from the notebook to read in the dataset.\n",
    "    2. Split the data into a training set (90 percent) and validation set (10 percent). Train the model on  20Newsgroups.\n",
    "    3. Report your accuracy results on the validation set.\n",
    "\n",
    "__NOTE__: Please use Jupyter Notebook. The notebook should include the final code, results and your answers. You should submit your Notebook in (.pdf or .html) and .ipynb format. (penalty 10 points) \n",
    "\n",
    "To reduce the parameters, you can merge all words that occur less often than a threshold into a special rare token (\\__unk__).\n",
    "\n",
    "__Instructions__:\n",
    "\n",
    "The university policy on academic dishonesty and plagiarism (cheating) will be taken very seriously in this course. Everything submitted should be your own writing or coding. You must not let other students copy your work. Spelling and grammar count.\n",
    "\n",
    "Your assignments will be marked based on correctness, originality (the implementations and ideas are from yourself), clarification and test performance.\n",
    "\n",
    "\n",
    "[1] Tom´ as Mikolov, Martin Kara ˇ fiat, Luk´ ´ as Burget, Jan ˇ Cernock´ ˇ y,Sanjeev Khudanpur: Recurrent neural network based language model, In: Proc. INTERSPEECH 2010\n",
    "\n",
    "[2] Tallec, Corentin, and Yann Ollivier. \"Unbiasing truncated backpropagation through time.\" arXiv preprint arXiv:1705.08209 (2017).\n"
   ]
  },
  {
   "cell_type": "code",
   "execution_count": 1,
   "metadata": {},
   "outputs": [
    {
     "name": "stdout",
     "output_type": "stream",
     "text": "Category:talk.politics.mideast\nCategory:.DS_Store\nCategory:rec.autos\nCategory:comp.sys.mac.hardware\nCategory:rec.sport.baseball\nCategory:comp.os.ms-windows.misc\nCategory:rec.sport.hockey\nCategory:talk.politics.misc\nCategory:rec.motorcycles\nCategory:comp.windows.x\nCategory:comp.graphics\nCategory:comp.sys.ibm.pc.hardware\nCategory:talk.politics.guns\nCategory:soc.religion.christian\nCategory:talk.religion.misc\n"
    }
   ],
   "source": [
    "\n",
    "\"\"\"This code is used to read all news and their labels\"\"\"\n",
    "import os\n",
    "import glob\n",
    "\n",
    "def to_categories(name, cat=[\"politics\",\"rec\",\"comp\",\"religion\"]):\n",
    "    for i in range(len(cat)):\n",
    "        if str.find(name,cat[i])>-1:\n",
    "            return(i)\n",
    "    print(\"Unexpected folder: \" + name) # print the folder name which does not include expected categories\n",
    "    return(\"wth\")\n",
    "\n",
    "def data_loader(images_dir):\n",
    "    categories = os.listdir(data_path)\n",
    "    news = [] # news content\n",
    "    groups = [] # category which it belong to\n",
    "    \n",
    "    for cat in categories:\n",
    "        print(\"Category:\"+cat)\n",
    "        for the_new_path in glob.glob(data_path + '/' + cat + '/*'):\n",
    "            news.append(open(the_new_path,encoding = \"ISO-8859-1\", mode ='r').read())\n",
    "            groups.append(cat)\n",
    "\n",
    "    return news, list(map(to_categories, groups))\n",
    "\n",
    "\n",
    "\n",
    "data_path = \"datasets/20news_subsampled\"\n",
    "news, groups = data_loader(data_path)"
   ]
  },
  {
   "cell_type": "code",
   "execution_count": 1,
   "metadata": {},
   "outputs": [
    {
     "name": "stdout",
     "output_type": "stream",
     "text": "1115394\n[nltk_data] Downloading package punkt to /Users/songyih/nltk_data...\n[nltk_data]   Package punkt is already up-to-date!\n254533\n"
    }
   ],
   "source": [
    "'''Implementing RNN based language models.\n",
    "'''\n",
    "from nltk import word_tokenize, download\n",
    "\n",
    "# load the English Literature dataset\n",
    "english_literature_path = './datasets/English Literature.txt'\n",
    "with open(english_literature_path) as f:\n",
    "    english_literature_text = f.read()\n",
    "print(len(english_literature_text))\n",
    "\n",
    "# tokenize the English Literature dataset\n",
    "download('punkt')\n",
    "english_literature_tokens = word_tokenize(english_literature_text)\n",
    "print(len(english_literature_tokens))"
   ]
  },
  {
   "cell_type": "code",
   "execution_count": 3,
   "metadata": {},
   "outputs": [
    {
     "name": "stdout",
     "output_type": "stream",
     "text": "14309\n"
    }
   ],
   "source": [
    "# build vocabulary\n",
    "from collections import Counter\n",
    "\n",
    "word2index = {}\n",
    "index2word = []\n",
    "english_literature_counter = Counter(english_literature_tokens)\n",
    "for word, count in english_literature_counter.items():\n",
    "    index2word.append(word)\n",
    "    word2index[word] = len(word2index)\n",
    "\n",
    "vocabulary_size = len(word2index)\n",
    "print(vocabulary_size)"
   ]
  },
  {
   "cell_type": "code",
   "execution_count": 20,
   "metadata": {},
   "outputs": [
    {
     "name": "stdout",
     "output_type": "stream",
     "text": "Progress: 99.99%\n(254532, 1) (254532, 14309)\n"
    }
   ],
   "source": [
    "# preprocess the dataset to get training data\n",
    "from tensorflow.keras.utils import to_categorical\n",
    "import numpy as np\n",
    "\n",
    "max_input_len = 1\n",
    "step = 1\n",
    "x = []\n",
    "y = []\n",
    "for i in range(0, len(english_literature_tokens) - max_input_len, step):\n",
    "    if i % 100 == 0:\n",
    "        print(\"Progress: {0}%\".format(round(i / len(english_literature_tokens) * 100, 2)), end=\"\\r\")\n",
    "    curr_words = english_literature_tokens[i:i + max_input_len]\n",
    "    x.append([word2index.get(curr_word, 0) for curr_word in curr_words])\n",
    "    next_word = english_literature_tokens[i + max_input_len]\n",
    "    y.append(word2index.get(next_word, 0))\n",
    "X = np.array(x)\n",
    "Y = to_categorical(y, vocabulary_size)\n",
    "print(\"\")\n",
    "print(X.shape, Y.shape)"
   ]
  },
  {
   "cell_type": "code",
   "execution_count": 21,
   "metadata": {},
   "outputs": [
    {
     "name": "stdout",
     "output_type": "stream",
     "text": "_________________________________________________________________\nLayer (type)                 Output Shape              Param #   \n=================================================================\nembedding_3 (Embedding)      (None, 1, 500)            7154500   \n_________________________________________________________________\nsimple_rnn_3 (SimpleRNN)     (None, 500)               500500    \n_________________________________________________________________\ndense_3 (Dense)              (None, 14309)             7168809   \n=================================================================\nTotal params: 14,823,809\nTrainable params: 14,823,809\nNon-trainable params: 0\n_________________________________________________________________\n"
    }
   ],
   "source": [
    "from tensorflow.keras.models import Sequential, load_model\n",
    "from tensorflow.keras.layers import Embedding, SimpleRNN, Dense\n",
    "\n",
    "model_elman = Sequential()\n",
    "model_elman.add(Embedding(vocabulary_size, 500, input_length=max_input_len))\n",
    "model_elman.add(SimpleRNN(units=500))\n",
    "model_elman.add(Dense(vocabulary_size, activation='softmax'))\n",
    "\n",
    "model_elman.summary()\n",
    "model_elman.compile(optimizer='rmsprop', loss='categorical_crossentropy', metrics=['accuracy'])"
   ]
  },
  {
   "cell_type": "code",
   "execution_count": 22,
   "metadata": {},
   "outputs": [
    {
     "name": "stdout",
     "output_type": "stream",
     "text": "[name: \"/device:CPU:0\"\ndevice_type: \"CPU\"\nmemory_limit: 268435456\nlocality {\n}\nincarnation: 17995072832655268474\n]\nEpoch 1/10\n253952/254532 [============================>.] - ETA: 0s - loss: 6.4305 - acc: 0.1061WARNING:tensorflow:Can save best model only with val_acc available, skipping.\n254532/254532 [==============================] - 180s 707us/sample - loss: 6.4290 - acc: 0.1062\nEpoch 2/10\n253952/254532 [============================>.] - ETA: 0s - loss: 5.6279 - acc: 0.1432WARNING:tensorflow:Can save best model only with val_acc available, skipping.\n254532/254532 [==============================] - 178s 701us/sample - loss: 5.6275 - acc: 0.1432\nEpoch 3/10\n253952/254532 [============================>.] - ETA: 0s - loss: 5.4412 - acc: 0.1543WARNING:tensorflow:Can save best model only with val_acc available, skipping.\n254532/254532 [==============================] - 178s 699us/sample - loss: 5.4408 - acc: 0.1543\nEpoch 4/10\n253952/254532 [============================>.] - ETA: 0s - loss: 5.3281 - acc: 0.1601WARNING:tensorflow:Can save best model only with val_acc available, skipping.\n254532/254532 [==============================] - 174s 686us/sample - loss: 5.3278 - acc: 0.1601\nEpoch 5/10\n253952/254532 [============================>.] - ETA: 0s - loss: 5.2456 - acc: 0.1659WARNING:tensorflow:Can save best model only with val_acc available, skipping.\n254532/254532 [==============================] - 178s 701us/sample - loss: 5.2453 - acc: 0.1659\nEpoch 6/10\n253952/254532 [============================>.] - ETA: 0s - loss: 5.1791 - acc: 0.1705WARNING:tensorflow:Can save best model only with val_acc available, skipping.\n254532/254532 [==============================] - 176s 690us/sample - loss: 5.1788 - acc: 0.1705\nEpoch 7/10\n253952/254532 [============================>.] - ETA: 0s - loss: 5.1231 - acc: 0.1747WARNING:tensorflow:Can save best model only with val_acc available, skipping.\n254532/254532 [==============================] - 178s 699us/sample - loss: 5.1227 - acc: 0.1747\nEpoch 8/10\n253952/254532 [============================>.] - ETA: 0s - loss: 5.0748 - acc: 0.1789WARNING:tensorflow:Can save best model only with val_acc available, skipping.\n254532/254532 [==============================] - 180s 706us/sample - loss: 5.0745 - acc: 0.1789\nEpoch 9/10\n253952/254532 [============================>.] - ETA: 2s - loss: 5.0324 - acc: 0.1824WARNING:tensorflow:Can save best model only with val_acc available, skipping.\n254532/254532 [==============================] - 1064s 4ms/sample - loss: 5.0320 - acc: 0.1824\nEpoch 10/10\n253952/254532 [============================>.] - ETA: 0s - loss: 4.9944 - acc: 0.1846WARNING:tensorflow:Can save best model only with val_acc available, skipping.\n254532/254532 [==============================] - 176s 691us/sample - loss: 4.9940 - acc: 0.1846\n"
    }
   ],
   "source": [
    "from tensorflow.python.client import device_lib\n",
    "from tensorflow.keras.callbacks import ModelCheckpoint\n",
    "\n",
    "print(device_lib.list_local_devices())\n",
    "best_model_checkpoint = ModelCheckpoint('./best_model_elman.pth', monitor=\"val_acc\", save_best_only=True, save_weights_only=False)\n",
    "elman_training_history = model_elman.fit(\n",
    "    X,\n",
    "    Y,\n",
    "    batch_size=1024,\n",
    "    epochs=10,\n",
    "    verbose=1,\n",
    "    shuffle=False,\n",
    "    callbacks=[best_model_checkpoint]\n",
    ")\n"
   ]
  },
  {
   "cell_type": "code",
   "execution_count": null,
   "metadata": {},
   "outputs": [],
   "source": [
    "from nltk.tokenize import sent_tokenize\n"
   ]
  }
 ],
 "metadata": {
  "kernelspec": {
   "display_name": "Python 3",
   "language": "python",
   "name": "python3"
  },
  "language_info": {
   "codemirror_mode": {
    "name": "ipython",
    "version": 3
   },
   "file_extension": ".py",
   "mimetype": "text/x-python",
   "name": "python",
   "nbconvert_exporter": "python",
   "pygments_lexer": "ipython3",
   "version": "3.7.4-final"
  }
 },
 "nbformat": 4,
 "nbformat_minor": 2
}